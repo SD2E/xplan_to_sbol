{
 "cells": [
  {
   "cell_type": "code",
   "execution_count": 1,
   "metadata": {},
   "outputs": [
    {
     "name": "stdout",
     "output_type": "stream",
     "text": [
      "done\n"
     ]
    }
   ],
   "source": [
    "import os\n",
    "import xplan_to_sbol.__main__ as xbol\n",
    "\n",
    "homespace = 'http://sift.net'\n",
    "om_path = os.path.join(os.getcwd(), 'example', 'om', 'om-2.0.rdf')\n",
    "xplan_path = os.path.join(os.getcwd(), 'example', 'xplan', 'rule30-Q0-v1.json')\n",
    "sbol_path = os.path.join(os.getcwd(), 'example', 'sbol', 'rule30-Q0-v1.xml')\n",
    "\n",
    "args = ['-hm', homespace, '-op', om_path, '-xp', xplan_path, '-sp', sbol_path]\n",
    "\n",
    "xbol.main(args)"
   ]
  },
  {
   "cell_type": "code",
   "execution_count": null,
   "metadata": {
    "collapsed": true
   },
   "outputs": [],
   "source": []
  }
 ],
 "metadata": {
  "kernelspec": {
   "display_name": "Python 3",
   "language": "python",
   "name": "python3"
  },
  "language_info": {
   "codemirror_mode": {
    "name": "ipython",
    "version": 3
   },
   "file_extension": ".py",
   "mimetype": "text/x-python",
   "name": "python",
   "nbconvert_exporter": "python",
   "pygments_lexer": "ipython3",
   "version": "3.6.2"
  }
 },
 "nbformat": 4,
 "nbformat_minor": 2
}
