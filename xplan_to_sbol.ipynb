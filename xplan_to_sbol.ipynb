{
 "cells": [
  {
   "cell_type": "code",
   "execution_count": 1,
   "metadata": {},
   "outputs": [
    {
     "name": "stdout",
     "output_type": "stream",
     "text": [
      "done\n"
     ]
    }
   ],
   "source": [
    "import os\n",
    "import xplan_to_sbol.__main__ as xbol\n",
    "\n",
    "exp_space = 'http://hub.sd2e.org/user/sd2e/transcriptic_rule_30_q0_1_09242017'\n",
    "xplan_path = os.path.join(os.getcwd(), 'example', 'xplan', 'rule_30_plan.json')\n",
    "om_path = os.path.join(os.getcwd(), 'example', 'om', 'om-2.0.rdf')\n",
    "exp_path = os.path.join(os.getcwd(), 'example', 'sbol', 'rule30-Q0-v2.xml')\n",
    "\n",
    "args = ['-es', exp_space, '-xp', xplan_path, '-op', om_path, '-ep', exp_path]\n",
    "\n",
    "xbol.main(args)"
   ]
  },
  {
   "cell_type": "code",
   "execution_count": null,
   "metadata": {
    "collapsed": true
   },
   "outputs": [],
   "source": []
  }
 ],
 "metadata": {
  "kernelspec": {
   "display_name": "Python 3",
   "language": "python",
   "name": "python3"
  },
  "language_info": {
   "codemirror_mode": {
    "name": "ipython",
    "version": 3
   },
   "file_extension": ".py",
   "mimetype": "text/x-python",
   "name": "python",
   "nbconvert_exporter": "python",
   "pygments_lexer": "ipython3",
   "version": "3.6.2"
  }
 },
 "nbformat": 4,
 "nbformat_minor": 2
}
